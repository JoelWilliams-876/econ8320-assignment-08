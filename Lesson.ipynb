{
  "nbformat": 4,
  "nbformat_minor": 0,
  "metadata": {
    "colab": {
      "provenance": []
    },
    "kernelspec": {
      "name": "python3",
      "display_name": "Python 3"
    },
    "language_info": {
      "name": "python"
    }
  },
  "cells": [
    {
      "cell_type": "code",
      "execution_count": 1,
      "metadata": {
        "id": "94Uge9RfglAc"
      },
      "outputs": [],
      "source": [
        "#si-exercise\n",
        "import pandas as pd\n",
        "import numpy as np\n",
        "from scipy.stats import t\n",
        "\n",
        "class RegressionModel:\n",
        "    def __init__(self, x, y, create_intercept=True, regression_type='ols'):\n",
        "        self.x = x.copy()\n",
        "        self.y = y\n",
        "        self.create_intercept = create_intercept\n",
        "        self.regression_type = regression_type\n",
        "        self.results = {}\n",
        "        if self.create_intercept:\n",
        "            self.add_intercept()\n",
        "\n",
        "    def add_intercept(self):\n",
        "\n",
        "        self.x['intercept'] = 1\n",
        "\n",
        "    def ols_regression(self):\n",
        "\n",
        "        X = self.x.values\n",
        "        Y = self.y.values.reshape(-1, 1)\n",
        "\n",
        "        XtX_inv = np.linalg.inv(np.dot(X.T, X))\n",
        "        XtY = np.dot(X.T, Y)\n",
        "        coefficients = np.dot(XtX_inv, XtY)\n",
        "\n",
        "        predictions = np.dot(X, coefficients)\n",
        "        residuals = Y - predictions\n",
        "\n",
        "        n, k = X.shape\n",
        "        s_square = (residuals.T @ residuals) / (n - k)\n",
        "        variance = s_square[0][0]\n",
        "        standard_errors = np.sqrt(np.diag(variance * XtX_inv))\n",
        "\n",
        "\n",
        "        t_stats = coefficients.flatten() / standard_errors\n",
        "        p_values = 2 * (1 - t.cdf(np.abs(t_stats), df=n - k))\n",
        "\n",
        "\n",
        "        for i, col in enumerate(self.x.columns):\n",
        "            self.results[col] = {\n",
        "                'coefficient': coefficients[i][0],\n",
        "                'standard_error': standard_errors[i],\n",
        "                't_stat': t_stats[i],\n",
        "                'p_value': p_values[i]\n",
        "            }\n",
        "\n",
        "    def summary(self):\n",
        "        self.ols_regression()\n",
        "\n",
        "        summary_df = pd.DataFrame({\n",
        "            \"Variable name\": list(self.results.keys()),\n",
        "            \"coefficient value\": [self.results[var]['coefficient'] for var in self.results],\n",
        "            \"standard error\": [self.results[var]['standard_error'] for var in self.results],\n",
        "            \"t-statistic\": [self.results[var]['t_stat'] for var in self.results],\n",
        "            \"p-value\": [self.results[var]['p_value'] for var in self.results]\n",
        "        })\n",
        "\n",
        "        print(summary_df)\n",
        "        return summary_df"
      ]
    }
  ]
}