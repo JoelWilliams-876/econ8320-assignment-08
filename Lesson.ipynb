{
  "nbformat": 4,
  "nbformat_minor": 0,
  "metadata": {
    "colab": {
      "provenance": []
    },
    "kernelspec": {
      "name": "python3",
      "display_name": "Python 3"
    },
    "language_info": {
      "name": "python"
    }
  },
  "cells": [
    {
      "cell_type": "code",
      "execution_count": 4,
      "metadata": {
        "id": "94Uge9RfglAc"
      },
      "outputs": [],
      "source": [
        "#si-exercise\n",
        "import pandas as pd\n",
        "import numpy as np\n",
        "import scipy as sp\n",
        "\n",
        "class RegressionModel:\n",
        "    def __init__(self, x, y, create_intercept=True, regression_type='ols'):\n",
        "        self.x = x.copy()\n",
        "        self.y = y\n",
        "        self.create_intercept = create_intercept\n",
        "        self.regression_type = regression_type\n",
        "        self.results = {}\n",
        "        if self.create_intercept:\n",
        "            self.add_intercept()\n",
        "\n",
        "    def add_intercept(self):\n",
        "\n",
        "        self.x['intercept'] = 1\n",
        "\n",
        "    def ols_regression(self):\n",
        "\n",
        "        X = self.x.values\n",
        "        Y = self.y.values.reshape(-1, 1)\n",
        "\n",
        "        XtX_inv = np.linalg.inv(np.dot(X.T, X))\n",
        "        XtY = np.dot(X.T, Y)\n",
        "        coefficients = np.dot(XtX_inv, XtY)\n",
        "\n",
        "        y_hat = np.dot(X, coefficients)\n",
        "        residuals = Y - y_hat\n",
        "\n",
        "        # Calculate degrees of freedom and residual variance\n",
        "        n = len(self.y)  # number of rows\n",
        "        k = X.shape[1]  # number of columns\n",
        "        df = n - k\n",
        "        residual_variance = np.sum(residuals**2) / df\n",
        "\n",
        "        # Standard errors\n",
        "        var_beta_hat = residual_variance * sp.linalg.inv(XtX)  # Variance-covariance matrix of beta_hat\n",
        "        standard_errors = np.sqrt(np.diag(var_beta_hat))\n",
        "\n",
        "\n",
        "        t_stats = coefficients.flatten() / standard_errors\n",
        "        p_values = 2 * (sp.stats.t.sf(np.abs(t_stats), df))\n",
        "\n",
        "\n",
        "        for i, col in enumerate(self.x.columns):\n",
        "            self.results[col] = {\n",
        "                'coefficient': coefficients[i][0],\n",
        "                'standard_error': standard_errors[i],\n",
        "                't_stat': t_stats[i],\n",
        "                'p_value': p_values[i]\n",
        "            }\n",
        "\n",
        "    def summary(self):\n",
        "        self.ols_regression()\n",
        "\n",
        "        summary_df = pd.DataFrame({\n",
        "            \"Variable name\": list(self.results.keys()),\n",
        "            \"coefficient value\": [self.results[var]['coefficient'] for var in self.results],\n",
        "            \"standard error\": [self.results[var]['standard_error'] for var in self.results],\n",
        "            \"t-statistic\": [self.results[var]['t_stat'] for var in self.results],\n",
        "            \"p-value\": [self.results[var]['p_value'] for var in self.results]\n",
        "        })\n",
        "\n",
        "        print(summary_df)\n",
        "        return summary_df"
      ]
    }
  ]
}