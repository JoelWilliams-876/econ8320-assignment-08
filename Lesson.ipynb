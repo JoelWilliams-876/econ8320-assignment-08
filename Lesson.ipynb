{
  "nbformat": 4,
  "nbformat_minor": 0,
  "metadata": {
    "colab": {
      "provenance": []
    },
    "kernelspec": {
      "name": "python3",
      "display_name": "Python 3"
    },
    "language_info": {
      "name": "python"
    }
  },
  "cells": [
    {
      "cell_type": "code",
      "execution_count": 6,
      "metadata": {
        "id": "94Uge9RfglAc"
      },
      "outputs": [],
      "source": [
        "#si-exercise\n",
        "import pandas as pd\n",
        "import numpy as np\n",
        "import scipy as sp\n",
        "\n",
        "class RegressionModel:\n",
        "    def __init__(self, x, y, create_intercept=True, regression_type='ols'):\n",
        "        self.x = x.copy()\n",
        "        self.y = y\n",
        "        self.create_intercept = create_intercept\n",
        "        self.regression_type = regression_type\n",
        "        self.results = {}\n",
        "        if self.create_intercept:\n",
        "            self.add_intercept()\n",
        "\n",
        "    def add_intercept(self):\n",
        "\n",
        "        self.x['intercept'] = 1\n",
        "\n",
        "    def ols_regression(self):\n",
        "\n",
        "        X = self.x.values\n",
        "        Y = self.y.values.reshape(-1, 1)\n",
        "\n",
        "        # OLS estimation\n",
        "        XtX = np.dot(X.T, X)  # X'X\n",
        "        XtY = np.dot(X.T, self.y)  # X'y\n",
        "        beta_hat = sp.linalg.solve(XtX, XtY, assume_a='pos')\n",
        "\n",
        "        # Predicted values and residuals\n",
        "        y_hat = np.dot(X, beta_hat)\n",
        "        residuals = Y - y_hat\n",
        "\n",
        "        # Calculate degrees of freedom and residual variance\n",
        "        n = len(self.y)  # number of rows\n",
        "        k = X.shape[1]  # number of columns\n",
        "        df = n - k\n",
        "        residual_variance = np.sum(residuals**2) / df\n",
        "\n",
        "        # Standard errors\n",
        "        var_beta_hat = residual_variance * sp.linalg.inv(XtX)  # Variance-covariance matrix of beta_hat\n",
        "        standard_errors = np.sqrt(np.diag(var_beta_hat))\n",
        "\n",
        "\n",
        "        t_stats = beta_hat.flatten() / standard_errors\n",
        "        p_values = 2 * (sp.stats.t.sf(np.abs(t_stats), df))\n",
        "\n",
        "\n",
        "        for i, col in enumerate(self.x.columns):\n",
        "            self.results[col] = {\n",
        "                'coefficient': beta_hat[i][0],\n",
        "                'standard_error': standard_errors[i],\n",
        "                't_stat': t_stats[i],\n",
        "                'p_value': p_values[i]\n",
        "            }\n",
        "\n",
        "    def summary(self):\n",
        "        if not self.results:\n",
        "            print(\"No results available. Please run ols_regression first.\")\n",
        "            return\n",
        "\n",
        "        # Convert results dictionary into a DataFrame for summary\n",
        "        summary_table = pd.DataFrame(self.results).T\n",
        "        summary_table.columns = ['coefficient', 'standard_error', 't_stat', 'p_value']\n",
        "        summary_table.index.name = 'Variable name'\n",
        "\n",
        "        print(summary_table)\n",
        "        return summary_table"
      ]
    }
  ]
}